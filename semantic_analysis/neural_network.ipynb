{
 "cells": [
  {
   "cell_type": "code",
   "execution_count": 13,
   "metadata": {},
   "outputs": [],
   "source": [
    "import event_detection as ts\n",
    "from sklearn import metrics\n",
    "from sklearn.metrics import precision_score, recall_score"
   ]
  },
  {
   "cell_type": "code",
   "execution_count": 2,
   "metadata": {},
   "outputs": [
    {
     "name": "stdout",
     "output_type": "stream",
     "text": [
      "               text\n",
      "event              \n",
      "fifa_final     9909\n",
      "no_event       9990\n",
      "super_tuesday  9930\n",
      "us_elections   9991\n"
     ]
    }
   ],
   "source": [
    "x, y = ts.pre()"
   ]
  },
  {
   "cell_type": "code",
   "execution_count": 3,
   "metadata": {},
   "outputs": [],
   "source": [
    "X_vec = ts.countVectorizer(x)\n",
    "y_encoded = ts.labelEncoding(y)"
   ]
  },
  {
   "cell_type": "code",
   "execution_count": 4,
   "metadata": {},
   "outputs": [],
   "source": [
    "X_train, X_test, y_train, y_test = ts.splitTestTrain(X_vec, y_encoded)"
   ]
  },
  {
   "cell_type": "code",
   "execution_count": 6,
   "metadata": {},
   "outputs": [
    {
     "data": {
      "text/plain": [
       "(31856, 1536)"
      ]
     },
     "execution_count": 6,
     "metadata": {},
     "output_type": "execute_result"
    }
   ],
   "source": [
    "X_train.shape"
   ]
  },
  {
   "cell_type": "code",
   "execution_count": 7,
   "metadata": {},
   "outputs": [],
   "source": [
    "from sklearn.neural_network import MLPClassifier"
   ]
  },
  {
   "cell_type": "code",
   "execution_count": 8,
   "metadata": {},
   "outputs": [],
   "source": [
    "clf = MLPClassifier(solver='lbfgs', alpha=1e-5, hidden_layer_sizes=(5, 2), random_state=1)"
   ]
  },
  {
   "cell_type": "code",
   "execution_count": 10,
   "metadata": {},
   "outputs": [],
   "source": [
    "nn_classifier = clf.fit(X_train, y_train) "
   ]
  },
  {
   "cell_type": "code",
   "execution_count": 11,
   "metadata": {},
   "outputs": [],
   "source": [
    "y_pred = nn_classifier.predict(X_test)"
   ]
  },
  {
   "cell_type": "code",
   "execution_count": 16,
   "metadata": {},
   "outputs": [
    {
     "name": "stdout",
     "output_type": "stream",
     "text": [
      "Multinomial Naive Bayes Classifier Test Accuracy:  92.12707182320442\n",
      "Multinomial Naive Bayes Classifier Test Precision:  92.0910642528502\n",
      "Multinomial Naive Bayes Classifier Test Recall:  92.09035673736436\n",
      "Multinomial Naive Bayes Classifier Test F measure:  92.09071049374835\n"
     ]
    }
   ],
   "source": [
    "metrics.confusion_matrix(y_test, y_pred)\n",
    "test_accuracy = metrics.accuracy_score(y_test, y_pred)\n",
    "precision_mnb = precision_score(y_test, y_pred, average='macro')  \n",
    "recall_mnb = recall_score(y_test, y_pred, average='macro') \n",
    "f_mnb = 2*(precision_mnb*recall_mnb)/(precision_mnb+recall_mnb)\n",
    "print(\"Multinomial Naive Bayes Classifier Test Accuracy: \", test_accuracy*100)\n",
    "print(\"Multinomial Naive Bayes Classifier Test Precision: \", precision_mnb*100)\n",
    "print(\"Multinomial Naive Bayes Classifier Test Recall: \", recall_mnb*100)\n",
    "print(\"Multinomial Naive Bayes Classifier Test F measure: \", f_mnb*100)"
   ]
  },
  {
   "cell_type": "code",
   "execution_count": null,
   "metadata": {},
   "outputs": [],
   "source": []
  }
 ],
 "metadata": {
  "kernelspec": {
   "display_name": "Python 3",
   "language": "python",
   "name": "python3"
  },
  "language_info": {
   "codemirror_mode": {
    "name": "ipython",
    "version": 3
   },
   "file_extension": ".py",
   "mimetype": "text/x-python",
   "name": "python",
   "nbconvert_exporter": "python",
   "pygments_lexer": "ipython3",
   "version": "3.6.4"
  }
 },
 "nbformat": 4,
 "nbformat_minor": 2
}
