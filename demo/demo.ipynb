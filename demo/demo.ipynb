{
 "cells": [
  {
   "cell_type": "code",
   "execution_count": 20,
   "metadata": {},
   "outputs": [],
   "source": [
    "from scipy import sparse\n",
    "import event_detection as ed"
   ]
  },
  {
   "cell_type": "code",
   "execution_count": 21,
   "metadata": {},
   "outputs": [],
   "source": [
    "fileName = 'events_corpus.csv'"
   ]
  },
  {
   "cell_type": "markdown",
   "metadata": {},
   "source": [
    "### Get Preprocessed Data"
   ]
  },
  {
   "cell_type": "code",
   "execution_count": 22,
   "metadata": {},
   "outputs": [
    {
     "name": "stdout",
     "output_type": "stream",
     "text": [
      "               text  timestamp\n",
      "event                         \n",
      "fifa_final     1000       1000\n",
      "no_event       2990       2990\n",
      "super_tuesday  1000       1000\n",
      "us_elections   1000       1000\n"
     ]
    }
   ],
   "source": [
    "x, y, timestamp = ed.pre(fileName)"
   ]
  },
  {
   "cell_type": "markdown",
   "metadata": {},
   "source": [
    "### Term Frequency Vectorizer"
   ]
  },
  {
   "cell_type": "code",
   "execution_count": 23,
   "metadata": {},
   "outputs": [],
   "source": [
    "X_vec = ed.tfidfVectorizer(x)"
   ]
  },
  {
   "cell_type": "markdown",
   "metadata": {},
   "source": [
    "### Label Encoder"
   ]
  },
  {
   "cell_type": "code",
   "execution_count": 24,
   "metadata": {},
   "outputs": [],
   "source": [
    "y_encoded, labelEncoder = ed.labelEncoding(y)"
   ]
  },
  {
   "cell_type": "markdown",
   "metadata": {},
   "source": [
    "### Split test and train data"
   ]
  },
  {
   "cell_type": "code",
   "execution_count": 25,
   "metadata": {},
   "outputs": [],
   "source": [
    "X_train, X_test, y_train, y_test = ed.splitTestTrain(X_vec, y_encoded)"
   ]
  },
  {
   "cell_type": "markdown",
   "metadata": {},
   "source": [
    "### Start Training"
   ]
  },
  {
   "cell_type": "code",
   "execution_count": 26,
   "metadata": {},
   "outputs": [
    {
     "name": "stdout",
     "output_type": "stream",
     "text": [
      "Multinomial Naive Bayes Classifier Test Accuracy:  65.31255796698201\n",
      "Multinomial Naive Bayes Classifier Test Precision:  89.51947142704319\n",
      "Multinomial Naive Bayes Classifier Test Recall:  48.13441118229217\n",
      "Multinomial Naive Bayes Classifier Test F measure:  62.60581924477484\n",
      "\n",
      "\n",
      "SVCs Test Accuracy:  79.61417176776109\n",
      "SVCs Test Precision:  90.42819000246544\n",
      "SVCs Test Recall:  69.79381334652665\n",
      "SVCs Test F measure:  78.78229060148651\n",
      "\n",
      "\n",
      "Random Forest's Test Accuracy:  84.69671675013912\n",
      "Random Forest's Test Precision:  90.64000552730182\n",
      "Random Forest's Test Recall:  77.38509750601996\n",
      "Random Forest's Test F measure:  83.48973503423981\n",
      "\n",
      "\n",
      "Neural Network Classifier Test Accuracy:  74.06789092932665\n",
      "Neural Network Classifier Test Precision:  65.02819212487654\n",
      "Neural Network Classifier Test Recall:  63.877279434787305\n",
      "Neural Network Classifier Test F measure:  64.44759790630265\n"
     ]
    }
   ],
   "source": [
    "naiveBayesPrecision, naiveBayesRecall, naiveBayesFMeasure, naiveBayesAcc, nbClassifier = ed.applyNaiveBayesClassifier(X_train, y_train, X_test, y_test)\n",
    "svmPrecision, svmRecall, svmFMeasure, svmAcc, svcClassifier = ed.applySVMClassifier(X_train, y_train, X_test, y_test)\n",
    "randomForestPrecision, randomForestRecall, randomForestFMeasure, randomForestAcc, rfClassifier = ed.applyRandomForestClassifier(X_train, y_train, X_test, y_test)\n",
    "nnPrecision, nnRecall, nnFMeasure, nnAcc, nnClassifier = ed.applyNeuralNetworkClassifier(X_train, y_train, X_test, y_test)"
   ]
  },
  {
   "cell_type": "code",
   "execution_count": 27,
   "metadata": {},
   "outputs": [
    {
     "data": {
      "text/plain": [
       "(5391, 13502)"
      ]
     },
     "execution_count": 27,
     "metadata": {},
     "output_type": "execute_result"
    }
   ],
   "source": [
    "X_test.shape"
   ]
  },
  {
   "cell_type": "code",
   "execution_count": 29,
   "metadata": {},
   "outputs": [
    {
     "name": "stdout",
     "output_type": "stream",
     "text": [
      "Predicted Labels:\n",
      "['fifa_final' 'fifa_final' 'fifa_final' 'fifa_final' 'no_event']\n",
      "Original Labels:\n",
      "0    fifa_final\n",
      "1    fifa_final\n",
      "2    fifa_final\n",
      "3    fifa_final\n",
      "4    fifa_final\n",
      "Name: event, dtype: object\n"
     ]
    },
    {
     "name": "stderr",
     "output_type": "stream",
     "text": [
      "/anaconda3/lib/python3.6/site-packages/sklearn/preprocessing/label.py:151: DeprecationWarning: The truth value of an empty array is ambiguous. Returning False, but in future this will result in an error. Use `array.size > 0` to check that an array is not empty.\n",
      "  if diff:\n"
     ]
    }
   ],
   "source": [
    "start_index = 0\n",
    "end_index = 5\n",
    "output = rfClassifier.predict(X_vec[start_index:end_index])\n",
    "predLabels = labelEncoder.inverse_transform(output)\n",
    "origLabels = y[start_index:end_index]\n",
    "# originalText = x[start_index:end_index]\n",
    "\n",
    "print('Predicted Labels:')\n",
    "print(predLabels)\n",
    "\n",
    "print('Original Labels:')\n",
    "print(origLabels)"
   ]
  },
  {
   "cell_type": "code",
   "execution_count": 30,
   "metadata": {},
   "outputs": [
    {
     "data": {
      "image/png": "[encoded data removed]",
      "text/plain": [
       "<matplotlib.figure.Figure at 0x1a12161b70>"
      ]
     },
     "metadata": {},
     "output_type": "display_data"
    }
   ],
   "source": [
    "ed.plotAcuuracyComparisonGraph(naiveBayesAcc, svmAcc, randomForestAcc, nnAcc)"
   ]
  },
  {
   "cell_type": "code",
   "execution_count": 31,
   "metadata": {},
   "outputs": [
    {
     "data": {
      "image/png": "[encoded data removed]",
      "text/plain": [
       "<matplotlib.figure.Figure at 0x1a1365bf28>"
      ]
     },
     "metadata": {},
     "output_type": "display_data"
    }
   ],
   "source": [
    "ed.plotFmeasureComparisonGraph(naiveBayesFMeasure, svmFMeasure, randomForestFMeasure, nnFMeasure)"
   ]
  },
  {
   "cell_type": "code",
   "execution_count": null,
   "metadata": {},
   "outputs": [],
   "source": []
  }
 ],
 "metadata": {
  "kernelspec": {
   "display_name": "Python 3",
   "language": "python",
   "name": "python3"
  },
  "language_info": {
   "codemirror_mode": {
    "name": "ipython",
    "version": 3
   },
   "file_extension": ".py",
   "mimetype": "text/x-python",
   "name": "python",
   "nbconvert_exporter": "python",
   "pygments_lexer": "ipython3",
   "version": "3.6.4"
  }
 },
 "nbformat": 4,
 "nbformat_minor": 2
}
